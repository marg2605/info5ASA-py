{
  "cells": [
    {
      "cell_type": "markdown",
      "metadata": {
        "id": "HB3XbPDcSqe1"
      },
      "source": [
        "# Esercizi IF"
      ]
    },
    {
      "cell_type": "code",
      "execution_count": 39,
      "metadata": {
        "id": "0U7L9A29RfeT"
      },
      "outputs": [
        {
          "name": "stdout",
          "output_type": "stream",
          "text": [
            "il numero da te inserito è pari\n"
          ]
        }
      ],
      "source": [
        "# Es 4.1: Ottenere dall'utente un numero in input e scrivere a schermo \"Pari\" se il numero è pari, scrivere \"Dispari\" altrimenti\n",
        "x = int(input()) \n",
        "if x%2 == 0:\n",
        "    print(\"il numero da te inserito è pari\")\n",
        "else:\n",
        "    print(\"il numero da te inserito è dispari\")"
      ]
    },
    {
      "cell_type": "code",
      "execution_count": 5,
      "metadata": {
        "id": "gE3RVr9ORuwP"
      },
      "outputs": [
        {
          "name": "stdout",
          "output_type": "stream",
          "text": [
            "non è un triangolo\n"
          ]
        }
      ],
      "source": [
        "# Es 4.2: Ottenere dall'utente tre angoli caso siano i tre angoli di un triangolo scrivere a schermo \"È un triangolo\", altrimenti \"Non è un triangolo\"\n",
        "x=int(input())\n",
        "y=int(input())\n",
        "z=int(input())\n",
        "if x+y+z==180 and x>0 and y>0 and z>0:\n",
        "    print(\"è un triangolo\")\n",
        "else:\n",
        "    print(\"non è un triangolo\")"
      ]
    },
    {
      "cell_type": "code",
      "execution_count": 2,
      "metadata": {
        "id": "r1A_DavcSKgi"
      },
      "outputs": [
        {
          "name": "stdout",
          "output_type": "stream",
          "text": [
            "è un triangolo rettangolo\n"
          ]
        }
      ],
      "source": [
        "# Es 4.3: Ottenuti dall'utente tre angoli di un tringolo scrivere a schermo se i tre angoli descrivono un triangolo rettangolo o no\n",
        "x=int(input())\n",
        "y=int(input())\n",
        "z=int(input())\n",
        "if x+y+z==180 and x>0 and y>0 and z>0:\n",
        "    if x==90 or y==90 or z==90:\n",
        "        print(\"è un triangolo rettangolo\")\n",
        "    else:\n",
        "        print(\"non è un triangolo rettangolo\")\n",
        "else:\n",
        "    print(\"non è un triangolo\")\n"
      ]
    },
    {
      "cell_type": "code",
      "execution_count": 4,
      "metadata": {
        "id": "iA9D4X_GSims"
      },
      "outputs": [
        {
          "name": "stdout",
          "output_type": "stream",
          "text": [
            "è un triangolo equilatero\n"
          ]
        }
      ],
      "source": [
        "# Es 4.4: Ottenuti dall'utente tre angoli di un tringolo scrivere a schermo se i tre angoli descrivono un triangolo equilatero o no\n",
        "x=int(input())\n",
        "y=int(input())\n",
        "z=int(input())\n",
        "if x+y+z==180 and x>0 and y>0 and z>0:\n",
        "    if x==60 and y==60 and z==60:\n",
        "        print(\"è un triangolo equilatero\")\n",
        "    else:\n",
        "        print(\"non è un triangolo equilatero\")\n",
        "else:\n",
        "    print(\"non è un triangolo\")\n"
      ]
    },
    {
      "cell_type": "code",
      "execution_count": 5,
      "metadata": {
        "id": "8q4gadoTSU7J"
      },
      "outputs": [
        {
          "name": "stdout",
          "output_type": "stream",
          "text": [
            "è un triangolo isoscele\n"
          ]
        }
      ],
      "source": [
        "# Es 4.5: Ottenuti dall'utente tre angoli di un tringolo scrivere a schermo se i tre angoli descrivono un triangolo isocele o no\n",
        "x=int(input())\n",
        "y=int(input())\n",
        "z=int(input())\n",
        "if x+y+z==180 and x>0 and y>0 and z>0:\n",
        "    if x==y or y==z or z==x:\n",
        "        print(\"è un triangolo isoscele\")\n",
        "    else:\n",
        "        print(\"non è un triangolo isoscele\")\n",
        "else:\n",
        "    print(\"non è un triangolo\")\n"
      ]
    },
    {
      "cell_type": "code",
      "execution_count": 6,
      "metadata": {
        "id": "yVIE2kK3SYlq"
      },
      "outputs": [
        {
          "name": "stdout",
          "output_type": "stream",
          "text": [
            "non è un triangolo rettangolo\n",
            "non è un triangolo equilatero\n",
            "è un triangolo isoscele\n"
          ]
        }
      ],
      "source": [
        "# Es 4.6: Ottenuti dall'utente tre angoli di un tringolo scrivere a schermo se i tre angoli descrivono un triangolo isocele, rettagolo, equilatero o scaleno\n",
        "x=int(input())\n",
        "y=int(input())\n",
        "z=int(input())\n",
        "if x+y+z==180 and x>0 and y>0 and z>0:\n",
        "    if x==90 or y==90 or z==90:\n",
        "        print(\"è un triangolo rettangolo\")\n",
        "    else:\n",
        "        print(\"non è un triangolo rettangolo\")\n",
        "    if x==60 and y==60 and z==60:\n",
        "        print(\"è un triangolo equilatero\")\n",
        "    else:\n",
        "        print(\"non è un triangolo equilatero\")\n",
        "    if x==y or y==z or z==x:\n",
        "        print(\"è un triangolo isoscele\")\n",
        "    else:\n",
        "        print(\"non è un triangolo isoscele\")\n",
        "else:\n",
        "    print(\"non è un triangolo\")"
      ]
    },
    {
      "cell_type": "markdown",
      "metadata": {
        "id": "ef5snVxLqeQh"
      },
      "source": [
        "# Esercizi WHILE\n"
      ]
    },
    {
      "cell_type": "code",
      "execution_count": 29,
      "metadata": {
        "id": "j61RqiHxqdmh"
      },
      "outputs": [
        {
          "name": "stdout",
          "output_type": "stream",
          "text": [
            "SONO STANCA!\n",
            "SONO STANCA!\n",
            "SONO STANCA!\n",
            "SONO STANCA!\n",
            "SONO STANCA!\n",
            "SONO STANCA!\n",
            "SONO STANCA!\n",
            "SONO STANCA!\n",
            "SONO STANCA!\n",
            "SONO STANCA!\n",
            "SONO STANCA!\n",
            "SONO STANCA!\n",
            "SONO STANCA!\n",
            "SONO STANCA!\n",
            "SONO STANCA!\n",
            "SONO STANCA!\n"
          ]
        }
      ],
      "source": [
        "# Es 4.7: Creare una funzione print_n(n,v) che stampi n volte il. contenuto di v\n",
        "\n",
        "def print_n(n, v):\n",
        "    contenuto = 0\n",
        "    n = 16\n",
        "    v = \"SONO STANCA!\"\n",
        "    while contenuto < n:\n",
        "        print(v)\n",
        "        contenuto += 1\n",
        "print_n(n, v)"
      ]
    },
    {
      "cell_type": "code",
      "execution_count": 23,
      "metadata": {
        "colab": {
          "base_uri": "https://localhost:8080/"
        },
        "id": "-6lAm-hfq9w9",
        "outputId": "399e82ba-3cfe-475f-f8df-0e156677ec75"
      },
      "outputs": [
        {
          "name": "stdout",
          "output_type": "stream",
          "text": [
            "Numeri divisibili per 60 compresi tra 1 e 60 sono: [1, 2, 3, 4, 5, 6, 10, 12, 15, 20, 30, 60]\n"
          ]
        }
      ],
      "source": [
        "# Es 4.8: Inserito il numero n dire per quali numeri, compresi tra 1 e n, è divisibile.\n",
        "# Inserisco 10: stampo 1,2,5\n",
        "# Inserisco 7: stampo 1\n",
        "\n",
        "def divisibili_fino_a_n(n):\n",
        "    divisibili = []\n",
        "    i = 1\n",
        "   \n",
        "    while i <= n:\n",
        "        if n % i == 0:\n",
        "            divisibili.append(i)\n",
        "        i += 1\n",
        "    return divisibili\n",
        "\n",
        "n = int(input(\"Inserisci un numero n: \"))\n",
        "risultato = divisibili_fino_a_n(n)\n",
        "print(\"Numeri divisibili per\", n, \"compresi tra 1 e\", n, \"sono:\", risultato)"
      ]
    },
    {
      "cell_type": "code",
      "execution_count": 25,
      "metadata": {
        "colab": {
          "base_uri": "https://localhost:8080/"
        },
        "id": "GjC4LdR7rP-b",
        "outputId": "9f539b4d-c307-479a-da13-610a7e1cc46e"
      },
      "outputs": [
        {
          "name": "stdout",
          "output_type": "stream",
          "text": [
            "7 è un numero primo!\n"
          ]
        }
      ],
      "source": [
        "# Es 4.9: Inserito il numero n dire se è primo o no\n",
        "def numero_primo(n):\n",
        "    if n<=1:\n",
        "        return False #i numeri primi devono essere maggiori di 1\n",
        "    if n<=3:\n",
        "        return True # 2 e 3 sono numeri primi\n",
        "    i=2\n",
        "    \n",
        "    while i * i <= n: \n",
        "        if n%i==0:\n",
        "            return False # perchè un numero primo non ha divisori apparte 1 e se stesso\n",
        "        i += 1 # per verificare tutti i numeri\n",
        "        return True\n",
        "    \n",
        "n= int(input())\n",
        "if numero_primo(n):\n",
        "    print (n, \"è un numero primo!\")\n",
        "else:\n",
        "    print(n, \"NON è numero primo\")\n"
      ]
    },
    {
      "cell_type": "code",
      "execution_count": 36,
      "metadata": {
        "colab": {
          "base_uri": "https://localhost:8080/"
        },
        "id": "CxtWnOdHsTv4",
        "outputId": "5d874410-cb07-46a2-9c22-83d541b7a91a"
      },
      "outputs": [
        {
          "name": "stdout",
          "output_type": "stream",
          "text": [
            "6 * 3 è uguale a 18\n"
          ]
        }
      ],
      "source": [
        "# Es 4.10: Creare la funzione moltiplica che restituisce il prodotto tra due numeri senza utilizzare *\n",
        "# 3*4 è uguale a 4+4+4\n",
        "\n",
        "def moltiplica(a, b):\n",
        "    risultato = 0\n",
        "    while b > 0:\n",
        "        risultato += a\n",
        "        b -= 1\n",
        "    return risultato\n",
        "\n",
        "num1 = 6\n",
        "num2 = 3\n",
        "risultato = moltiplica(num1, num2)\n",
        "\n",
        "print(f\"{num1} * {num2} è uguale a {risultato}\")"
      ]
    }
  ],
  "metadata": {
    "colab": {
      "provenance": []
    },
    "kernelspec": {
      "display_name": "Python 3",
      "name": "python3"
    },
    "language_info": {
      "codemirror_mode": {
        "name": "ipython",
        "version": 3
      },
      "file_extension": ".py",
      "mimetype": "text/x-python",
      "name": "python",
      "nbconvert_exporter": "python",
      "pygments_lexer": "ipython3",
      "version": "3.10.8"
    }
  },
  "nbformat": 4,
  "nbformat_minor": 0
}
